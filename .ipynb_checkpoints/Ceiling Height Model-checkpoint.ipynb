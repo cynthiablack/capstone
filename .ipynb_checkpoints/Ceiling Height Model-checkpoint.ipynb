{
 "cells": [
  {
   "cell_type": "code",
   "execution_count": 5,
   "id": "14cfed29-4a75-4651-a125-1db45391bb52",
   "metadata": {},
   "outputs": [
    {
     "data": {
      "application/vnd.jupyter.widget-view+json": {
       "model_id": "0321639cd1e2425cbd36a658a7522cfa",
       "version_major": 2,
       "version_minor": 0
      },
      "text/plain": [
       "Dropdown(description='Airport: ', options=(('Anchorage', 'PANC'), ('Fairbanks', 'PAFA')), value='PANC')"
      ]
     },
     "metadata": {},
     "output_type": "display_data"
    },
    {
     "data": {
      "application/vnd.jupyter.widget-view+json": {
       "model_id": "374c77eb1e294f4c88cd2dddae56f7cf",
       "version_major": 2,
       "version_minor": 0
      },
      "text/plain": [
       "Button(description='Generate', style=ButtonStyle())"
      ]
     },
     "metadata": {},
     "output_type": "display_data"
    },
    {
     "data": {
      "application/vnd.jupyter.widget-view+json": {
       "model_id": "c880a39a14c943b7a36de99e22632c04",
       "version_major": 2,
       "version_minor": 0
      },
      "text/plain": [
       "Output()"
      ]
     },
     "metadata": {},
     "output_type": "display_data"
    }
   ],
   "source": [
    "# IMPORTS\n",
    "import ipywidgets as widgets\n",
    "from IPython.display import display\n",
    "import matplotlib.pyplot as plt\n",
    "import numpy as np\n",
    "import pandas as pd\n",
    "from sklearn.linear_model import BayesianRidge, Ridge\n",
    "from sklearn.metrics import mean_squared_error, PredictionErrorDisplay\n",
    "\n",
    "#INTERACTIVITY\n",
    "# dropdown to select airport\n",
    "airport_selector = widgets.Dropdown(\n",
    "    options=[('Anchorage', 'PANC'), ('Fairbanks', 'PAFA')],\n",
    "    value='PANC',\n",
    "    description='Airport: '\n",
    ")\n",
    "\n",
    "button = widgets.Button(\n",
    "    value=False,\n",
    "    description='Generate',\n",
    "    disabled=False,\n",
    "    button_style='',\n",
    "    Tooltip='Generate predictions for selected airport'\n",
    ")\n",
    "\n",
    "output = widgets.Output()\n",
    "display(airport_selector, button, output)\n",
    "\n",
    "# MACHINE LEARNING MODEL (NONDESCRIPTIVE METHOD)\n",
    "def run_model(airport):\n",
    "    # import METAR values with date parsing\n",
    "    if airport == 'PANC':\n",
    "        METAR = pd.read_csv('PANC_METAR_cleaned.csv', parse_dates=['valid'])\n",
    "\n",
    "    if airport == 'PAFA':\n",
    "        METAR = pd.read_csv('PAFA_METAR_cleaned.csv', parse_dates=['valid'])\n",
    "    \n",
    "    # sort dates - required for rolling average function\n",
    "    METAR = METAR.set_index(\"valid\").sort_index()\n",
    "    \n",
    "    # calculate 3-hour rolling averages (prediction variables)\n",
    "    predictions = pd.DataFrame({\n",
    "        'temperature_3hour_average' : METAR['tmpf'].rolling(\"3h\").mean(), \n",
    "        'humidity_3hour_average' : METAR['relh'].rolling(\"3h\").mean(), \n",
    "        'dewpoint_3hour_average' : METAR['dwpf'].rolling(\"3h\").mean(), \n",
    "        'windspeed_3hour_average' : METAR['sknt'].rolling(\"3h\").mean()\n",
    "    })\n",
    "    \n",
    "    predictions = predictions.dropna() # delete rows if NaN or other invalid value present\n",
    "    \n",
    "    # define target and aligh Y axis\n",
    "    Y = METAR.loc[predictions.index, \"ceiling\"] # target variables\n",
    "    \n",
    "    # Bayesian Ridge linear regression model\n",
    "    model = BayesianRidge()\n",
    "    model.fit(predictions, Y)\n",
    "    BayesianRidgePrediction = model.predict(predictions)\n",
    "\n",
    "    # calculate RMSE to evaluate model prediction accuracy\n",
    "    rmse=mean_squared_error(Y, BayesianRidgePrediction)\n",
    "    print(\"RMSE: \")\n",
    "    print(rmse)\n",
    "    \n",
    "    #VISUALIZATIONS (DESCRIPTIVE METHOD)\n",
    "    # Show Bayesian Ridge Linear Regression Model\n",
    "    plt.plot(predictions.index, BayesianRidgePrediction, label='Bayesian Prediction', color='#5DE2E7')\n",
    "    if airport == 'PANC':\n",
    "        plt.title(\"Ceiling Height Predictions for Anchorage with Bayesian Ridge Regression\")\n",
    "    if airport == 'PAFA':\n",
    "        plt.title(\"Ceiling Height Predictions for Fairbanks with Bayesian Ridge Regression\")\n",
    "    plt.xlabel(\"Datetime\")\n",
    "    plt.ylabel(\"Predicted Ceiling Height\")\n",
    "    plt.xticks(rotation=90)\n",
    "    plt.show()\n",
    "    \n",
    "    # Show Observed vs Predicted Ceiling Heights\n",
    "    plt.scatter(predictions.index, Y, label='Observed', color='#5DE2E7')\n",
    "    plt.scatter(predictions.index, BayesianRidgePrediction, label='Predicted', color='#060270')\n",
    "    if airport == 'PANC':\n",
    "        plt.title(\"Observed vs Predicted Ceiling Heights - Anchorage\")\n",
    "    if airport == 'PAFA':\n",
    "        plt.title(\"Observed vs Predicted Ceiling Heights - Fairbanks\")\n",
    "    plt.xlabel(\"Datetime\")\n",
    "    plt.ylabel(\"Ceiling Height\")\n",
    "    plt.xticks(rotation=90)\n",
    "    plt.legend()\n",
    "    plt.show()\n",
    "    \n",
    "    # Show Prediction Error\n",
    "    ridge = Ridge().fit(predictions, Y)\n",
    "    y_pred = ridge.predict(predictions)\n",
    "    display = PredictionErrorDisplay(y_true=Y, y_pred=y_pred)\n",
    "    display.plot()\n",
    "    if airport == 'PANC':\n",
    "        plt.title(\"Prediction Errors - Anchorage\")\n",
    "    if airport == 'PAFA':\n",
    "        plt.title(\"Prediction Errors - Fairbanks\")\n",
    "    plt.show()\n",
    "\n",
    "# run model for user-selected airport\n",
    "def run_on_input(b):\n",
    "    with output:\n",
    "        output.clear_output()\n",
    "        airport = airport_selector.value\n",
    "        run_model(airport)\n",
    "\n",
    "button.on_click(run_on_input)"
   ]
  },
  {
   "cell_type": "code",
   "execution_count": null,
   "id": "645974dd-5c11-41c8-b029-2c44a820139c",
   "metadata": {},
   "outputs": [],
   "source": []
  }
 ],
 "metadata": {
  "kernelspec": {
   "display_name": "Python 3 (ipykernel)",
   "language": "python",
   "name": "python3"
  },
  "language_info": {
   "codemirror_mode": {
    "name": "ipython",
    "version": 3
   },
   "file_extension": ".py",
   "mimetype": "text/x-python",
   "name": "python",
   "nbconvert_exporter": "python",
   "pygments_lexer": "ipython3",
   "version": "3.12.10"
  }
 },
 "nbformat": 4,
 "nbformat_minor": 5
}
