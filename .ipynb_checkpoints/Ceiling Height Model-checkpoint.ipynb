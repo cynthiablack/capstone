{
 "cells": [
  {
   "cell_type": "markdown",
   "id": "f9f44123-3a66-4295-bfbd-bae8a6d7789e",
   "metadata": {},
   "source": [
    "# Ceiling Height Prediction Model\n",
    "*C964 Capstone by Cynthia Black 001364386*\n",
    "\n",
    "## How to Run the Model\n",
    "1. Run ```pip install -r requirements.txt``` or manually ensure that the following libraries are installed: ipywidgets, IPython.display, matplotlib, numpy, pandas, scikit-learn\n",
    "2. Ensure the data files (PANC_METAR_cleaned.csv and PAFA_METAR_cleaned.csv) are in the same directory as this notebook.\n",
    "3. Click the Run button ▶️ on the toolbar or choose Run -> Run All Cells from the menu\n",
    "4. Scroll to the bottom of the notebook, then select an airport from the dropdown.\n",
    "5. Click the *Generate* button to generate predictions and visualizations and calculate RMSE\n",
    "\n",
    "## About this Model\n",
    "The model uses Bayesian Ridge Regression to predict cloud ceiling heights at Anchorage International and Fairbanks International Airports in Alaska. It was developed in response to the Federal Aviation Administration's NextGen Weather Program's call for applied research to minimize the impact of weather on the National Airspace System (FAA, 2025). Before the regression model runs, a rolling three-hour average (via pandas .rolling() method) of key variables (ambient temperature, dew point, relative humidity, and wind speed) is taken to reduce variance in the model."
   ]
  },
  {
   "cell_type": "code",
   "execution_count": 3,
   "id": "14cfed29-4a75-4651-a125-1db45391bb52",
   "metadata": {},
   "outputs": [],
   "source": [
    "# IMPORTS\n",
    "import ipywidgets as widgets\n",
    "from IPython.display import display\n",
    "import matplotlib.pyplot as plt\n",
    "import numpy as np\n",
    "import pandas as pd\n",
    "from sklearn.linear_model import BayesianRidge, Ridge\n",
    "from sklearn.metrics import mean_squared_error, PredictionErrorDisplay\n",
    "\n",
    "# MACHINE LEARNING MODEL (NONDESCRIPTIVE METHOD)\n",
    "def run_model(airport):\n",
    "    # import METAR values with date parsing\n",
    "    if airport == 'PANC':\n",
    "        METAR = pd.read_csv('PANC_METAR_cleaned.csv', parse_dates=['valid'])\n",
    "\n",
    "    if airport == 'PAFA':\n",
    "        METAR = pd.read_csv('PAFA_METAR_cleaned.csv', parse_dates=['valid'])\n",
    "    \n",
    "    # sort dates - required for rolling average function\n",
    "    METAR = METAR.set_index(\"valid\").sort_index()\n",
    "    \n",
    "    # calculate 3-hour rolling averages (prediction variables)\n",
    "    predictions = pd.DataFrame({\n",
    "        'temperature_3hour_average' : METAR['tmpf'].rolling(\"3h\").mean(), \n",
    "        'humidity_3hour_average' : METAR['relh'].rolling(\"3h\").mean(), \n",
    "        'dewpoint_3hour_average' : METAR['dwpf'].rolling(\"3h\").mean(), \n",
    "        'windspeed_3hour_average' : METAR['sknt'].rolling(\"3h\").mean()\n",
    "    })\n",
    "    \n",
    "    predictions = predictions.dropna() # delete rows if NaN or other invalid value present\n",
    "    \n",
    "    # define target and aligh Y axis\n",
    "    Y = METAR.loc[predictions.index, \"ceiling\"] # target variables\n",
    "    \n",
    "    # Bayesian Ridge linear regression model\n",
    "    model = BayesianRidge()\n",
    "    model.fit(predictions, Y)\n",
    "    BayesianRidgePrediction = model.predict(predictions)\n",
    "\n",
    "    # ACCURACY MEASURES\n",
    "    # calculate RMSE to evaluate model prediction accuracy\n",
    "    rmse=mean_squared_error(Y, BayesianRidgePrediction)\n",
    "    print(\"RMSE: \")\n",
    "    print(rmse)\n",
    "\n",
    "    # compare actual vs predicted ceiling at or below 1,000 feet\n",
    "    observed_low_ceiling = Y.values <= 1000\n",
    "    predicted_low_ceiling = BayesianRidgePrediction <= 1000\n",
    "    error_rate = abs(observed_low_ceiling.sum() - predicted_low_ceiling.sum()) / observed_low_ceiling.sum() * 100\n",
    "\n",
    "    print(\"Error Rate for Observed vs Predicted Low Ceiling\")\n",
    "    print(error_rate)\n",
    "    \n",
    "    #VISUALIZATIONS (DESCRIPTIVE METHOD)\n",
    "    # Show Bayesian Ridge Linear Regression Model\n",
    "    plt.plot(predictions.index, BayesianRidgePrediction, label='Bayesian Prediction', color='#5DE2E7')\n",
    "    if airport == 'PANC':\n",
    "        plt.title(\"Ceiling Height Predictions for Anchorage with Bayesian Ridge Regression\")\n",
    "    if airport == 'PAFA':\n",
    "        plt.title(\"Ceiling Height Predictions for Fairbanks with Bayesian Ridge Regression\")\n",
    "    plt.xlabel(\"Datetime\")\n",
    "    plt.ylabel(\"Predicted Ceiling Height\")\n",
    "    plt.xticks(rotation=90)\n",
    "    plt.show()\n",
    "    \n",
    "    # Show Observed vs Predicted Ceiling Heights\n",
    "    plt.scatter(predictions.index, Y, label='Observed', color='#5DE2E7')\n",
    "    plt.scatter(predictions.index, BayesianRidgePrediction, label='Predicted', color='#060270')\n",
    "    if airport == 'PANC':\n",
    "        plt.title(\"Observed vs Predicted Ceiling Heights - Anchorage\")\n",
    "    if airport == 'PAFA':\n",
    "        plt.title(\"Observed vs Predicted Ceiling Heights - Fairbanks\")\n",
    "    plt.xlabel(\"Datetime\")\n",
    "    plt.ylabel(\"Ceiling Height\")\n",
    "    plt.xticks(rotation=90)\n",
    "    plt.legend()\n",
    "    plt.show()\n",
    "    \n",
    "    # Show Prediction Error\n",
    "    ridge = Ridge().fit(predictions, Y)\n",
    "    y_pred = ridge.predict(predictions)\n",
    "    display = PredictionErrorDisplay(y_true=Y, y_pred=y_pred)\n",
    "    display.plot()\n",
    "    if airport == 'PANC':\n",
    "        plt.title(\"Prediction Errors - Anchorage\")\n",
    "    if airport == 'PAFA':\n",
    "        plt.title(\"Prediction Errors - Fairbanks\")\n",
    "    plt.show()"
   ]
  },
  {
   "cell_type": "code",
   "execution_count": 4,
   "id": "2a1f8213-9cee-41f0-b513-26c2fdb809e6",
   "metadata": {},
   "outputs": [
    {
     "data": {
      "application/vnd.jupyter.widget-view+json": {
       "model_id": "f5f64fd852d240e5b360766657813d83",
       "version_major": 2,
       "version_minor": 0
      },
      "text/plain": [
       "HTML(value='<b>Instructions:</b> To see predicted ceiling height for an airport, select the airport from the d…"
      ]
     },
     "metadata": {},
     "output_type": "display_data"
    },
    {
     "data": {
      "application/vnd.jupyter.widget-view+json": {
       "model_id": "035bb4830d4d413096e6ec3871d62d4e",
       "version_major": 2,
       "version_minor": 0
      },
      "text/plain": [
       "Dropdown(description='Airport: ', options=(('Anchorage', 'PANC'), ('Fairbanks', 'PAFA')), value='PANC')"
      ]
     },
     "metadata": {},
     "output_type": "display_data"
    },
    {
     "data": {
      "application/vnd.jupyter.widget-view+json": {
       "model_id": "3a84ef473364485dbbcd957bcfe42aa6",
       "version_major": 2,
       "version_minor": 0
      },
      "text/plain": [
       "Button(description='Generate', style=ButtonStyle())"
      ]
     },
     "metadata": {},
     "output_type": "display_data"
    },
    {
     "data": {
      "application/vnd.jupyter.widget-view+json": {
       "model_id": "f6204f68eaae4386baa9eb3494dcb20c",
       "version_major": 2,
       "version_minor": 0
      },
      "text/plain": [
       "Output()"
      ]
     },
     "metadata": {},
     "output_type": "display_data"
    }
   ],
   "source": [
    "#INTERACTIVITY\n",
    "# instructions for interactives\n",
    "html = widgets.HTML(\n",
    "    value=\"<b>Instructions:</b> To see predicted ceiling height for an airport, select the airport from the dropdown, then click the Generate button.\",\n",
    ")\n",
    "\n",
    "# dropdown to select airport\n",
    "airport_selector = widgets.Dropdown(\n",
    "    options=[('Anchorage', 'PANC'), ('Fairbanks', 'PAFA')],\n",
    "    value='PANC',\n",
    "    description='Airport: '\n",
    ")\n",
    "\n",
    "button = widgets.Button(\n",
    "    value=False,\n",
    "    description='Generate',\n",
    "    disabled=False,\n",
    "    button_style='',\n",
    "    Tooltip='Generate predictions for selected airport'\n",
    ")\n",
    "\n",
    "output = widgets.Output()\n",
    "display(html, airport_selector, button, output)\n",
    "# run model for user-selected airport\n",
    "def run_on_input(b):\n",
    "    with output:\n",
    "        output.clear_output()\n",
    "        airport = airport_selector.value\n",
    "        run_model(airport)\n",
    "\n",
    "button.on_click(run_on_input)"
   ]
  }
 ],
 "metadata": {
  "kernelspec": {
   "display_name": "Python 3 (ipykernel)",
   "language": "python",
   "name": "python3"
  },
  "language_info": {
   "codemirror_mode": {
    "name": "ipython",
    "version": 3
   },
   "file_extension": ".py",
   "mimetype": "text/x-python",
   "name": "python",
   "nbconvert_exporter": "python",
   "pygments_lexer": "ipython3",
   "version": "3.12.10"
  }
 },
 "nbformat": 4,
 "nbformat_minor": 5
}
